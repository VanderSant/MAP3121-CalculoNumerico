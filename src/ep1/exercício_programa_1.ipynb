{
 "metadata": {
  "language_info": {
   "codemirror_mode": {
    "name": "ipython",
    "version": 3
   },
   "file_extension": ".py",
   "mimetype": "text/x-python",
   "name": "python",
   "nbconvert_exporter": "python",
   "pygments_lexer": "ipython3",
   "version": "3.9.5"
  },
  "orig_nbformat": 4,
  "kernelspec": {
   "name": "python3",
   "display_name": "Python 3.9.5 64-bit"
  },
  "interpreter": {
   "hash": "7573f1826719c495f3ba25031edb16b094c0636b1d900b9c08b47dfe6633cab2"
  }
 },
 "nbformat": 4,
 "nbformat_minor": 2,
 "cells": [
  {
   "source": [
    "# Exercício Programa 1 - MAP3121 - Métodos Numéricos e Aplicações\n",
    "##  Autovalores e Autovetores de Matrizes \n",
    "## Tridiagonais Simétricas - O Algoritmo QR"
   ],
   "cell_type": "markdown",
   "metadata": {}
  },
  {
   "cell_type": "code",
   "execution_count": 4,
   "metadata": {},
   "outputs": [],
   "source": [
    "# imports\n",
    "import numpy as np\n",
    "import matplotlib as plt"
   ]
  },
  {
   "source": [
    "## Rotações de Givens e a fatoração QR de uma matriz tridiagonal"
   ],
   "cell_type": "markdown",
   "metadata": {}
  },
  {
   "cell_type": "code",
   "execution_count": 5,
   "metadata": {},
   "outputs": [],
   "source": [
    "## Function to get the givens_rotation_Qk matrix for givens rotation\n",
    "def givens_rotation_Qk(k,A):\n",
    "    Q = np.eye(len(A))\n",
    "    alfa_k = A[k,k]\n",
    "    beta_k = A[k+1,k]\n",
    "    ck = alfa_k/(np.sqrt((alfa_k**2)+(beta_k**2)))\n",
    "    sk = -(beta_k)/(np.sqrt((alfa_k**2)+(beta_k**2)))\n",
    "    Q[k,k] = ck\n",
    "    Q[k,k+1] = -sk\n",
    "    Q[k+1,k] = sk\n",
    "    Q[k+1,k+1] = ck\n",
    "    return Q\n",
    "    pass\n",
    "\n",
    "## Function which returns a matrix after a givens rotation\n",
    "def QR_fatoration(A):\n",
    "    R = A\n",
    "    matrix_i_size = len(A)\n",
    "    Q =np.eye(matrix_i_size)\n",
    "    Q_iteration_size = matrix_i_size - 1\n",
    "    for i in range (0, Q_iteration_size,1):\n",
    "        Q = Q@np.transpose(givens_rotation_Qk(i,R))\n",
    "        R = givens_rotation_Qk(i,R)@R\n",
    "    return [R,Q]\n",
    "    pass"
   ]
  },
  {
   "source": [
    "## O algoritmo QR"
   ],
   "cell_type": "markdown",
   "metadata": {}
  },
  {
   "cell_type": "code",
   "execution_count": 6,
   "metadata": {},
   "outputs": [],
   "source": [
    "def wilkinson_heuristics(A,n):\n",
    "    get_sgnd = lambda d: 1 if d >= 0 else -1\n",
    "    alfa_ant = A[n-2,n-2]\n",
    "    alfa = A[n-1,n-1]\n",
    "    beta = A[(n-2)+1,n-2]\n",
    "    dk = (alfa_ant - alfa)/2\n",
    "    uk = alfa + dk - get_sgnd(dk)*(np.sqrt((dk**2)+(beta**2)))\n",
    "    return [uk,beta]\n",
    "    pass\n",
    "\n",
    "def QR_algorithm(A, erro = 1/1000000):\n",
    "    get_uk = lambda A,n,k: wilkinson_heuristics(A,n)[0] if k > 0 else 0\n",
    "    V = I = np.eye(len(A))\n",
    "    k = 0\n",
    "    for m in range(len(A),1,-1):\n",
    "        beta = wilkinson_heuristics(A,m)[1]\n",
    "        while(abs(beta)>erro):\n",
    "            uk = get_uk(A,m,k)\n",
    "            R,Q = QR_fatoration(A - (uk*I))\n",
    "            A = R@Q + uk*I\n",
    "            V = V@Q\n",
    "            k = k + 1\n",
    "            beta = wilkinson_heuristics(A,m)[1]\n",
    "    lamb = A\n",
    "    return [V,lamb]\n",
    "    pass"
   ]
  },
  {
   "cell_type": "code",
   "execution_count": null,
   "metadata": {},
   "outputs": [],
   "source": []
  }
 ]
}